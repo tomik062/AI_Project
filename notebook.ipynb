{
  "cells": [
    {
      "cell_type": "markdown",
      "metadata": {
        "id": "view-in-github",
        "colab_type": "text"
      },
      "source": [
        "<a href=\"https://colab.research.google.com/github/tomik062/AI_Project/blob/main/notebook.ipynb\" target=\"_parent\"><img src=\"https://colab.research.google.com/assets/colab-badge.svg\" alt=\"Open In Colab\"/></a>"
      ]
    },
    {
      "cell_type": "markdown",
      "source": [
        "fetch from github"
      ],
      "metadata": {
        "id": "SU6vceq0jJSn"
      }
    },
    {
      "cell_type": "code",
      "metadata": {
        "colab": {
          "base_uri": "https://localhost:8080/"
        },
        "id": "3b2f8140",
        "outputId": "20a45ae8-8641-48bc-b4c0-3a187872d616"
      },
      "source": [
        "import requests\n",
        "import os\n",
        "\n",
        "repo_owner = 'tomik062'\n",
        "repo_name = 'AI_Project'\n",
        "directory_path = 'data'\n",
        "url = f'https://api.github.com/repos/{repo_owner}/{repo_name}/contents/{directory_path}'\n",
        "\n",
        "response = requests.get(url)\n",
        "response.raise_for_status()  # Raise an exception for bad status codes\n",
        "files_in_directory = response.json()\n",
        "\n",
        "# Create a directory to save the downloaded files\n",
        "if not os.path.exists(directory_path):\n",
        "    os.makedirs(directory_path)\n",
        "\n",
        "for item in files_in_directory:\n",
        "    if item['type'] == 'file':\n",
        "        download_url = item['download_url']\n",
        "        file_content = requests.get(download_url).content\n",
        "        file_name = os.path.join(directory_path, item['name'])\n",
        "\n",
        "        with open(file_name, 'wb') as f:\n",
        "            f.write(file_content)\n",
        "\n",
        "        print(f\"Downloaded {item['name']} to {file_name}\")"
      ],
      "execution_count": 1,
      "outputs": [
        {
          "output_type": "stream",
          "name": "stdout",
          "text": [
            "Downloaded GNI_PPP_const_2021_dollars.csv to data/GNI_PPP_const_2021_dollars.csv\n",
            "Downloaded Religious Composition 2010-2020 (percentages).xlsx to data/Religious Composition 2010-2020 (percentages).xlsx\n",
            "Downloaded abortion-rates-by-country-2025.csv to data/abortion-rates-by-country-2025.csv\n",
            "Downloaded age-at-first-marriage-by-country-2025.csv to data/age-at-first-marriage-by-country-2025.csv\n",
            "Downloaded average-workweek-by-country-2025.csv to data/average-workweek-by-country-2025.csv\n",
            "Downloaded female-labor-force-participation-rates-slopes.csv to data/female-labor-force-participation-rates-slopes.csv\n",
            "Downloaded gender_inequality_index to data/gender_inequality_index\n",
            "Downloaded happiness-cantril-ladder.csv to data/happiness-cantril-ladder.csv\n",
            "Downloaded healthcare-expenditure-per-capita-ppp.csv to data/healthcare-expenditure-per-capita-ppp.csv\n",
            "Downloaded high_education_female.xlsx to data/high_education_female.xlsx\n",
            "Downloaded high_education_male.xlsx to data/high_education_male.xlsx\n",
            "Downloaded human_development_index.xlsx to data/human_development_index.xlsx\n",
            "Downloaded maternity-leave-by-country-2025.xlsx to data/maternity-leave-by-country-2025.xlsx\n",
            "Downloaded period-average-age-of-mothers.csv to data/period-average-age-of-mothers.csv\n",
            "Downloaded physicians-per-capita.csv to data/physicians-per-capita.csv\n",
            "Downloaded social-media-users-by-country-2025.csv to data/social-media-users-by-country-2025.csv\n",
            "Downloaded total-fertility-rate.csv to data/total-fertility-rate.csv\n",
            "Downloaded urban-population-share.csv to data/urban-population-share.csv\n"
          ]
        }
      ]
    },
    {
      "cell_type": "code",
      "source": [
        "import pandas as pd\n",
        "import io\n",
        "def extract_WorldBank():\n",
        "    df_list=[]\n",
        "    df_list.append(extract_WorldBank_file('data/healthcare-expenditure-per-capita-ppp.csv'))\n",
        "    df_list.append(extract_WorldBank_file('data/physicians-per-capita.csv'))\n",
        "    df_list.append(extract_WorldBank_file('data/GNI_PPP_const_2021_dollars.csv'))\n",
        "    return df_list\n",
        "\n",
        "def extract_WorldBank_file(file):\n",
        "    header_row_index = None\n",
        "    with open(file, 'r', encoding='utf-8') as f:\n",
        "      for i, line in enumerate(f):\n",
        "          if 'Country Name' in line and 'Country Code' in line:\n",
        "              header_row_index = i\n",
        "              break\n",
        "    if(header_row_index==None):\n",
        "      print(\"Error: Header row not found in the file.\")\n",
        "      return None\n",
        "    df = pd.read_csv(file, delimiter=',', engine='python', skiprows=header_row_index)\n",
        "    df = df.drop(columns=['Indicator Name', 'Indicator Code', '2024', 'Unnamed: 69'],errors='ignore')\n",
        "    return df"
      ],
      "metadata": {
        "id": "cYzmct4Kokwc"
      },
      "execution_count": 35,
      "outputs": []
    },
    {
      "cell_type": "code",
      "source": [
        "import pandas as pd\n",
        "\n",
        "def extract_OurWorldInData():\n",
        "    df_list=[]\n",
        "    df_list.append(extract_OurWorldInData_file('data/urban-population-share.csv'))\n",
        "    df_list.append(extract_OurWorldInData_file('data/period-average-age-of-mothers.csv'))\n",
        "    df_list.append(extract_OurWorldInData_file('data/happiness-cantril-ladder.csv'))\n",
        "    df_list.append(extract_OurWorldInData_file('data/female-labor-force-participation-rates-slopes.csv'))\n",
        "    return df_list\n",
        "def extract_OurWorldInData_file(file_name):\n",
        "    df = pd.read_csv(file_name, delimiter=',', engine='python')\n",
        "    if 'Entity' not in df.columns:\n",
        "        print(\"Error: 'Entity' column not found. Cannot filter regions.\")\n",
        "        return df\n",
        "\n",
        "    country_name_mapping = {\n",
        "        'Egypt': 'Egypt, Arab Rep.',\n",
        "        'Bahamas': 'Bahamas, The',\n",
        "        'Brunei': 'Brunei Darussalam',\n",
        "        'Democratic Republic of Congo': 'Congo, Dem. Rep.',\n",
        "        'Congo': 'Congo, Rep.',\n",
        "        'Cape Verde': 'Cabo Verde',\n",
        "        'Gambia': 'Gambia, The',\n",
        "        'Iran': 'Iran, Islamic Rep.',\n",
        "        'Kyrgyzstan': 'Kyrgyz Republic',\n",
        "        'Saint Kitts and Nevis': 'St. Kitts and Nevis',\n",
        "        'South Korea': 'Korea, Rep.',\n",
        "        'Laos': 'Lao PDR',\n",
        "        'Saint Lucia': 'St. Lucia',\n",
        "        'North Macedonia': 'North Macedonia',\n",
        "        'Micronesia (country)': 'Micronesia, Fed. Sts.',\n",
        "        'Russia': 'Russian Federation',\n",
        "        'Slovakia': 'Slovak Republic',\n",
        "        'Syria': 'Syrian Arab Republic',\n",
        "        'East Timor': 'Timor-Leste',\n",
        "        'Turkey': 'Turkiye',\n",
        "        'Saint Vincent and the Grenadines': 'St. Vincent and the Grenadines',\n",
        "        'Venezuela': 'Venezuela, RB',\n",
        "        'Vietnam': 'Viet Nam',\n",
        "        'Yemen': 'Yemen, Rep.',\n",
        "        'Hong Kong': 'Hong Kong SAR, China',\n",
        "        'Macao': 'Macao SAR, China',\n",
        "        'St. Martin (French part)': 'St. Martin (French part)',\n",
        "        'Puerto Rico': 'Puerto Rico (US)',\n",
        "        \"North Korea\": \"Korea, Dem. People's Rep.\",\n",
        "        'Palestine': 'West Bank and Gaza',\n",
        "        'Kosovo': 'Kosovo',\n",
        "        'United States Virgin Islands': 'Virgin Islands (U.S.)',\n",
        "    }\n",
        "\n",
        "    df['Entity'] = df['Entity'].apply(lambda x: country_name_mapping.get(x, x))\n",
        "\n",
        "\n",
        "    # Reshape the DataFrame from long to wide format.\n",
        "    # 'Entity' and 'Code' will be the id_vars, 'Year' will be the pivot column,\n",
        "    # and the remaining column (the urbanization share) will be the value.\n",
        "    # We need to find the name of the urbanization share column dynamically.\n",
        "    value_vars = [col for col in df.columns if col not in ['Entity', 'Code', 'Year']]\n",
        "\n",
        "    if not value_vars:\n",
        "        print(\"Error: Could not find the urbanization share value column.\")\n",
        "        return df # Return without reshaping if value column is missing\n",
        "\n",
        "    # Assuming there is only one value column after excluding id_vars and Year\n",
        "    value_name = value_vars[0]\n",
        "\n",
        "\n",
        "    # Pivot the DataFrame to wide format. Missing combinations of index and columns will result in NaN.\n",
        "    df_wide = df.pivot(index=['Entity', 'Code'], columns='Year', values=value_name).reset_index()\n",
        "\n",
        "    # Rename columns to match the fertility DataFrame structure\n",
        "    df_wide = df_wide.rename(columns={'Entity': 'Country Name', 'Code': 'Country Code'})\n",
        "\n",
        "    return df_wide"
      ],
      "metadata": {
        "id": "cQfqLY8xr4wh"
      },
      "execution_count": 3,
      "outputs": []
    },
    {
      "cell_type": "code",
      "source": [
        "def merge(data, df_list):\n",
        "    for new_df in df_list:\n",
        "      new_df_year_columns = [col for col in new_df.columns if isinstance(col, int)]\n",
        "      new_df_country_map = new_df.set_index('Country Name')\n",
        "      for key, value in data.items():\n",
        "          country_name = key[0]\n",
        "          year = key[1]\n",
        "          data_list = value[1]\n",
        "          if country_name in new_df_country_map.index:\n",
        "              new_df_row = new_df_country_map.loc[country_name]\n",
        "              if year in new_df_row.index and pd.notna(new_df_row[year]):\n",
        "                      new_value = new_df_row[year]\n",
        "                      data_list.append(new_value)\n",
        "              #spaghetti code incoming, hope doest break anything\n",
        "              elif str(year) in new_df_row.index and pd.notna(new_df_row[str(year)]):\n",
        "                      new_value = new_df_row[str(year)]\n",
        "                      data_list.append(new_value)\n",
        "              else:\n",
        "                      data_list.append(float('nan'))\n",
        "\n",
        "          else:\n",
        "              print(f\"Warning: Country '{country_name}' not found in the new DataFrame.\")\n",
        "              data_list.append(float('nan'))\n"
      ],
      "metadata": {
        "id": "rYdRWg8xDC1k"
      },
      "execution_count": 36,
      "outputs": []
    },
    {
      "cell_type": "markdown",
      "source": [
        "init data for single year"
      ],
      "metadata": {
        "id": "tE6LZVA9jzsY"
      }
    },
    {
      "cell_type": "code",
      "source": [
        "data={}\n",
        "df_fertility=extract_WorldBank_file('data/total-fertility-rate.csv')\n",
        "regions_to_exclude_by_code = [\n",
        "    'CEB', 'EAR', 'IBD', 'LTE', 'MAF', 'PSS', 'AFE', 'AFW', 'ARB', 'CSS', 'EAP', 'EAS', 'ECA', 'ECS', 'EMU', 'EUU', 'FCS', 'HIC', 'HPC',\n",
        "    'IDA', 'IDB', 'IDX', 'LAC', 'LCN', 'LDC', 'LIC', 'LMC', 'LMY', 'MEA', 'MIC', 'MNA',\n",
        "    'NAC', 'OED', 'OSS', 'PRE', 'PST', 'SAS', 'SSA', 'SSF', 'SST', 'UMC', 'WLD','IBT','TEA','TEC','TLA','TSS','TMN','TSA'\n",
        "]\n",
        "df_fertility = df_fertility[~df_fertility['Country Code'].isin(regions_to_exclude_by_code)]\n",
        "df_fertility_2023 = df_fertility[['Country Name', '2023']].copy()\n",
        "df_fertility_2023['2023'] = pd.to_numeric(df_fertility_2023['2023'], errors='coerce')\n",
        "df_fertility_2023.dropna(subset=['2023'], inplace=True)\n",
        "for index, row in df_fertility_2023.iterrows():\n",
        "    country_name = row['Country Name']\n",
        "    fertility_rate = row['2023']\n",
        "    data[(country_name,2023)] = (fertility_rate, [])\n",
        "merge(data,extract_OurWorldInData()+extract_WorldBank())\n",
        "print(data)"
      ],
      "metadata": {
        "colab": {
          "base_uri": "https://localhost:8080/"
        },
        "collapsed": true,
        "id": "C_L3SOTcjyt0",
        "outputId": "c56b34e6-c909-48e9-e861-df95e6cf8195"
      },
      "execution_count": 40,
      "outputs": [
        {
          "output_type": "stream",
          "name": "stdout",
          "text": [
            "Warning: Country 'Kosovo' not found in the new DataFrame.\n",
            "Warning: Country 'Channel Islands' not found in the new DataFrame.\n",
            "Warning: Country 'Aruba' not found in the new DataFrame.\n",
            "Warning: Country 'Andorra' not found in the new DataFrame.\n",
            "Warning: Country 'American Samoa' not found in the new DataFrame.\n",
            "Warning: Country 'Antigua and Barbuda' not found in the new DataFrame.\n",
            "Warning: Country 'Bahamas, The' not found in the new DataFrame.\n",
            "Warning: Country 'Bermuda' not found in the new DataFrame.\n",
            "Warning: Country 'Barbados' not found in the new DataFrame.\n",
            "Warning: Country 'Brunei Darussalam' not found in the new DataFrame.\n",
            "Warning: Country 'Channel Islands' not found in the new DataFrame.\n",
            "Warning: Country 'Cabo Verde' not found in the new DataFrame.\n",
            "Warning: Country 'Curacao' not found in the new DataFrame.\n",
            "Warning: Country 'Cayman Islands' not found in the new DataFrame.\n",
            "Warning: Country 'Dominica' not found in the new DataFrame.\n",
            "Warning: Country 'Eritrea' not found in the new DataFrame.\n",
            "Warning: Country 'Fiji' not found in the new DataFrame.\n",
            "Warning: Country 'Faroe Islands' not found in the new DataFrame.\n",
            "Warning: Country 'Micronesia, Fed. Sts.' not found in the new DataFrame.\n",
            "Warning: Country 'Gibraltar' not found in the new DataFrame.\n",
            "Warning: Country 'Guinea-Bissau' not found in the new DataFrame.\n",
            "Warning: Country 'Equatorial Guinea' not found in the new DataFrame.\n",
            "Warning: Country 'Grenada' not found in the new DataFrame.\n",
            "Warning: Country 'Greenland' not found in the new DataFrame.\n",
            "Warning: Country 'Guam' not found in the new DataFrame.\n",
            "Warning: Country 'Isle of Man' not found in the new DataFrame.\n",
            "Warning: Country 'Kiribati' not found in the new DataFrame.\n",
            "Warning: Country 'St. Kitts and Nevis' not found in the new DataFrame.\n",
            "Warning: Country 'St. Lucia' not found in the new DataFrame.\n",
            "Warning: Country 'Liechtenstein' not found in the new DataFrame.\n",
            "Warning: Country 'Macao SAR, China' not found in the new DataFrame.\n",
            "Warning: Country 'Monaco' not found in the new DataFrame.\n",
            "Warning: Country 'Marshall Islands' not found in the new DataFrame.\n",
            "Warning: Country 'Northern Mariana Islands' not found in the new DataFrame.\n",
            "Warning: Country 'New Caledonia' not found in the new DataFrame.\n",
            "Warning: Country 'Nauru' not found in the new DataFrame.\n",
            "Warning: Country 'Palau' not found in the new DataFrame.\n",
            "Warning: Country 'Papua New Guinea' not found in the new DataFrame.\n",
            "Warning: Country 'Korea, Dem. People's Rep.' not found in the new DataFrame.\n",
            "Warning: Country 'French Polynesia' not found in the new DataFrame.\n",
            "Warning: Country 'Solomon Islands' not found in the new DataFrame.\n",
            "Warning: Country 'San Marino' not found in the new DataFrame.\n",
            "Warning: Country 'Sao Tome and Principe' not found in the new DataFrame.\n",
            "Warning: Country 'Sint Maarten (Dutch part)' not found in the new DataFrame.\n",
            "Warning: Country 'Seychelles' not found in the new DataFrame.\n",
            "Warning: Country 'Turks and Caicos Islands' not found in the new DataFrame.\n",
            "Warning: Country 'Timor-Leste' not found in the new DataFrame.\n",
            "Warning: Country 'Tonga' not found in the new DataFrame.\n",
            "Warning: Country 'Tuvalu' not found in the new DataFrame.\n",
            "Warning: Country 'St. Vincent and the Grenadines' not found in the new DataFrame.\n",
            "Warning: Country 'British Virgin Islands' not found in the new DataFrame.\n",
            "Warning: Country 'Virgin Islands (U.S.)' not found in the new DataFrame.\n",
            "Warning: Country 'Vanuatu' not found in the new DataFrame.\n",
            "Warning: Country 'Samoa' not found in the new DataFrame.\n",
            "Warning: Country 'Andorra' not found in the new DataFrame.\n",
            "Warning: Country 'Channel Islands' not found in the new DataFrame.\n",
            "Warning: Country 'Eritrea' not found in the new DataFrame.\n",
            "Warning: Country 'Faroe Islands' not found in the new DataFrame.\n",
            "Warning: Country 'Korea, Dem. People's Rep.' not found in the new DataFrame.\n",
            "Warning: Country 'Sint Maarten (Dutch part)' not found in the new DataFrame.\n",
            "Warning: Country 'Turkmenistan' not found in the new DataFrame.\n",
            "{('Aruba', 2023): (1.602, [np.float64(49.899), np.float64(28.824), nan, nan, nan, nan, np.float64(41080.0)]), ('Afghanistan', 2023): (4.84, [np.float64(29.149118), np.float64(30.366), np.float64(1.721), nan, nan, nan, np.float64(2210.0)]), ('Angola', 2023): (5.124, [np.float64(66.94085), np.float64(28.589), nan, nan, nan, nan, np.float64(7280.0)]), ('Albania', 2023): (1.348, [np.float64(61.257164), np.float64(29.132), np.float64(5.304), nan, nan, nan, np.float64(20990.0)]), ('Andorra', 2023): (1.082, [np.float64(95.00263), np.float64(32.518), nan, nan, np.float64(5640.93945946982), nan, np.float64(74250.0)]), ('United Arab Emirates', 2023): (1.2, [np.float64(87.209015), np.float64(31.897), np.float64(6.733), np.float64(54.477), nan, nan, np.float64(76680.0)]), ('Argentina', 2023): (1.5, [np.float64(94.48409), np.float64(29.073), np.float64(6.188), np.float64(53.163), nan, nan, np.float64(29460.0)]), ('Armenia', 2023): (1.9, [np.float64(70.10863), np.float64(27.781), np.float64(5.455), nan, nan, nan, np.float64(20950.0)]), ('American Samoa', 2023): (2.286, [np.float64(95.0648), np.float64(29.375), nan, nan, nan, nan, nan]), ('Antigua and Barbuda', 2023): (1.578, [np.float64(37.2528), np.float64(28.255), nan, nan, nan, nan, np.float64(30140.0)]), ('Australia', 2023): (1.5, [np.float64(91.178), np.float64(31.391), np.float64(7.057), np.float64(62.81), nan, nan, np.float64(67480.0)]), ('Austria', 2023): (1.32, [np.float64(71.84103), np.float64(31.167), np.float64(6.905), np.float64(56.804), np.float64(7890.65347898073), nan, np.float64(70510.0)]), ('Azerbaijan', 2023): (1.55, [np.float64(60.19972), np.float64(25.93), np.float64(4.893), nan, nan, nan, np.float64(22650.0)]), ('Burundi', 2023): (4.878, [np.float64(16.265913), np.float64(30.16), nan, nan, nan, nan, np.float64(930.0)]), ('Belgium', 2023): (1.47, [np.float64(97.748985), np.float64(31.006), np.float64(6.894), np.float64(50.685), nan, nan, np.float64(70010.0)]), ('Benin', 2023): (4.556, [np.float64(50.1711), np.float64(29.079), np.float64(4.377), nan, nan, nan, np.float64(4090.0)]), ('Burkina Faso', 2023): (4.186, [np.float64(35.30466), np.float64(29.189), np.float64(4.548), np.float64(41.796), nan, nan, np.float64(2640.0)]), ('Bangladesh', 2023): (2.163, [np.float64(36.12291), np.float64(26.041), np.float64(3.886), nan, nan, nan, np.float64(9510.0)]), ('Bulgaria', 2023): (1.81, [np.float64(76.17336), np.float64(27.948), np.float64(5.463), np.float64(49.765), nan, nan, np.float64(35670.0)]), ('Bahrain', 2023): (1.824, [np.float64(22.618103), np.float64(29.98), np.float64(5.959), nan, nan, nan, np.float64(60550.0)]), ('Bahamas, The', 2023): (1.373, [np.float64(86.610504), np.float64(28.841), nan, np.float64(98.651), nan, nan, np.float64(37560.0)]), ('Bosnia and Herzegovina', 2023): (1.486, [np.float64(56.15956), np.float64(29.037), np.float64(5.877), np.float64(42.173), nan, nan, np.float64(22380.0)]), ('Belarus', 2023): (1.208, [np.float64(79.13824), np.float64(28.653), nan, np.float64(65.252), nan, nan, np.float64(29830.0)]), ('Belize', 2023): (2.007, [np.float64(58.516197), np.float64(27.182), nan, nan, nan, nan, np.float64(13320.0)]), ('Bermuda', 2023): (1.401, [nan, np.float64(32.103), nan, nan, nan, nan, np.float64(116760.0)]), ('Bolivia', 2023): (2.547, [np.float64(71.37134), np.float64(28.144), np.float64(5.784), np.float64(72.587), nan, nan, np.float64(10620.0)]), ('Brazil', 2023): (1.619, [np.float64(89.16161), np.float64(27.813), np.float64(6.272), np.float64(53.098), nan, nan, np.float64(20500.0)]), ('Barbados', 2023): (1.708, [np.float64(53.1058), np.float64(27.733), nan, nan, nan, nan, np.float64(20490.0)]), ('Brunei Darussalam', 2023): (1.747, [np.float64(80.2336), np.float64(30.652), nan, np.float64(54.375), nan, nan, np.float64(86130.0)]), ('Bhutan', 2023): (1.462, [np.float64(44.6727), np.float64(29.89), nan, np.float64(56.83), nan, nan, np.float64(15360.0)]), ('Botswana', 2023): (2.732, [np.float64(68.34198), np.float64(28.672), np.float64(3.383), np.float64(63.067), nan, nan, np.float64(21040.0)]), ('Central African Republic', 2023): (6.012, [np.float64(46.61573), np.float64(28.968), nan, nan, nan, nan, np.float64(1330.0)]), ('Canada', 2023): (1.26, [np.float64(84.67324), np.float64(31.413), np.float64(6.9), np.float64(61.629), np.float64(6813.10476641958), nan, np.float64(63330.0)]), ('Switzerland', 2023): (1.33, [np.float64(76.36329), np.float64(32.295), np.float64(7.06), np.float64(62.566), nan, nan, np.float64(87740.0)]), ('Channel Islands', 2023): (1.37, [nan, nan, nan, nan, nan, nan, nan]), ('Chile', 2023): (1.167, [np.float64(91.91389), np.float64(31.193), np.float64(6.36), np.float64(52.038), np.float64(3287.264116184), nan, np.float64(31390.0)]), ('China', 2023): (0.999, [np.float64(56.526077), np.float64(29.018), np.float64(5.973), nan, nan, nan, np.float64(24970.0)]), (\"Cote d'Ivoire\", 2023): (4.283, [np.float64(58.63189), np.float64(29.028), np.float64(5.08), nan, nan, nan, np.float64(6950.0)]), ('Cameroon', 2023): (4.322, [np.float64(66.53027), np.float64(28.417), np.float64(4.874), nan, nan, nan, np.float64(5300.0)]), ('Congo, Dem. Rep.', 2023): (6.051, [np.float64(43.397125), np.float64(30.073), np.float64(3.295), nan, nan, nan, np.float64(1570.0)]), ('Congo, Rep.', 2023): (4.157, [np.float64(68.78511), np.float64(28.562), np.float64(5.221), nan, nan, nan, np.float64(6500.0)]), ('Colombia', 2023): (1.645, [np.float64(80.266495), np.float64(26.554), np.float64(5.695), np.float64(52.023), np.float64(1674.41520228755), nan, np.float64(20410.0)]), ('Comoros', 2023): (3.878, [np.float64(32.547802), np.float64(30.217), np.float64(3.566), nan, nan, nan, np.float64(3920.0)]), ('Cabo Verde', 2023): (1.522, [np.float64(68.97031), np.float64(28.637), nan, nan, nan, nan, np.float64(10180.0)]), ('Costa Rica', 2023): (1.33, [np.float64(70.38736), np.float64(28.201), np.float64(6.955), np.float64(43.862), nan, nan, np.float64(26120.0)]), ('Cuba', 2023): (1.439, [np.float64(79.985016), np.float64(26.216), nan, nan, nan, nan, nan]), ('Curacao', 2023): (1.2, [nan, np.float64(29.97), nan, nan, nan, nan, np.float64(30770.0)]), ('Cayman Islands', 2023): (1.531, [nan, np.float64(30.646), nan, nan, nan, nan, nan]), ('Cyprus', 2023): (1.389, [np.float64(61.511757), np.float64(31.7), np.float64(6.068), np.float64(60.919), nan, nan, np.float64(51730.0)]), ('Czechia', 2023): (1.45, [np.float64(78.32668), np.float64(30.43), np.float64(6.822), np.float64(51.748), np.float64(4476.38872908391), nan, np.float64(52450.0)]), ('Germany', 2023): (1.39, [np.float64(78.62523), np.float64(31.466), np.float64(6.719), np.float64(56.413), np.float64(7757.94019977115), nan, np.float64(71100.0)]), ('Djibouti', 2023): (2.609, [np.float64(83.07926), np.float64(31.522), nan, nan, nan, nan, np.float64(7460.0)]), ('Dominica', 2023): (1.484, [np.float64(70.82448), np.float64(28.208), nan, nan, nan, nan, np.float64(20270.0)]), ('Denmark', 2023): (1.5, [np.float64(89.29973), np.float64(31.638), np.float64(7.583), np.float64(59.698), np.float64(7012.20381886591), nan, np.float64(75840.0)]), ('Dominican Republic', 2023): (2.243, [np.float64(74.47871), np.float64(27.433), np.float64(5.823), np.float64(52.782), nan, nan, np.float64(24670.0)]), ('Algeria', 2023): (2.766, [np.float64(71.81974), np.float64(31.453), np.float64(5.364), nan, nan, nan, np.float64(16580.0)]), ('Ecuador', 2023): (1.823, [np.float64(71.82924), np.float64(27.366), np.float64(5.725), np.float64(52.922), nan, nan, np.float64(15550.0)]), ('Egypt, Arab Rep.', 2023): (2.75, [np.float64(51.37935), np.float64(27.99), np.float64(3.977), nan, nan, nan, np.float64(17710.0)]), ('Eritrea', 2023): (3.713, [np.float64(28.076824), np.float64(29.169), nan, nan, nan, nan, nan]), ('Spain', 2023): (1.12, [np.float64(81.544785), np.float64(32.544), np.float64(6.421), np.float64(53.351), nan, nan, np.float64(52970.0)]), ('Estonia', 2023): (1.31, [np.float64(73.76821), np.float64(30.959), np.float64(6.448), np.float64(62.025), nan, nan, np.float64(45330.0)]), ('Ethiopia', 2023): (3.989, [np.float64(22.341082), np.float64(29.079), np.float64(3.861), nan, nan, nan, np.float64(3050.0)]), ('Finland', 2023): (1.26, [np.float64(87.83533), np.float64(31.472), np.float64(7.741), np.float64(58.504), nan, nan, np.float64(61900.0)]), ('Fiji', 2023): (2.281, [np.float64(57.978203), np.float64(28.777), nan, nan, np.float64(590.057607300782), nan, np.float64(14280.0)]), ('France', 2023): (1.66, [np.float64(87.96965), np.float64(31.58), np.float64(6.609), np.float64(52.82), nan, nan, np.float64(59410.0)]), ('Faroe Islands', 2023): (1.8586, [np.float64(43.5443), np.float64(30.329), nan, nan, nan, nan, np.float64(78730.0)]), ('Micronesia, Fed. Sts.', 2023): (2.748, [nan, np.float64(28.908), nan, nan, nan, nan, np.float64(4660.0)]), ('Gabon', 2023): (3.647, [np.float64(89.14249), np.float64(28.524), np.float64(5.106), nan, nan, nan, np.float64(19050.0)]), ('United Kingdom', 2023): (1.56, [np.float64(89.40352), np.float64(30.909), np.float64(6.749), np.float64(58.108), np.float64(6371.81410039905), nan, np.float64(57650.0)]), ('Georgia', 2023): (1.81, [np.float64(60.1143), np.float64(28.501), np.float64(5.185), nan, nan, nan, np.float64(23130.0)]), ('Ghana', 2023): (3.397, [np.float64(59.32204), np.float64(29.506), np.float64(4.289), nan, nan, nan, np.float64(7070.0)]), ('Gibraltar', 2023): (1.888, [nan, np.float64(30.398), nan, nan, nan, nan, nan]), ('Guinea', 2023): (4.217, [np.float64(43.4013), np.float64(28.261), np.float64(5.023), nan, nan, nan, np.float64(3960.0)]), ('Gambia, The', 2023): (4.006, [np.float64(41.470592), np.float64(29.823), np.float64(4.485), np.float64(45.378), nan, nan, np.float64(3220.0)]), ('Guinea-Bissau', 2023): (3.836, [np.float64(37.48202), np.float64(29.468), nan, nan, nan, nan, np.float64(2920.0)]), ('Equatorial Guinea', 2023): (4.081, [np.float64(45.124504), np.float64(27.049), nan, nan, nan, nan, np.float64(12250.0)]), ('Greece', 2023): (1.32, [np.float64(68.12734), np.float64(31.969), np.float64(5.934), np.float64(44.843), nan, nan, np.float64(39890.0)]), ('Grenada', 2023): (1.487, [np.float64(46.464096), np.float64(28.615), nan, nan, nan, nan, np.float64(17020.0)]), ('Greenland', 2023): (1.769, [np.float64(87.1012), np.float64(27.922), nan, nan, nan, nan, nan]), ('Guatemala', 2023): (2.311, [np.float64(57.17784), np.float64(27.329), np.float64(6.287), np.float64(52.308), nan, nan, np.float64(13490.0)]), ('Guam', 2023): (2.781, [nan, np.float64(29.051), nan, nan, nan, nan, nan]), ('Guyana', 2023): (2.412, [np.float64(33.071), np.float64(27.009), nan, nan, nan, nan, np.float64(43650.0)]), ('Hong Kong SAR, China', 2023): (0.751, [np.float64(100.0), np.float64(32.929), np.float64(5.316), np.float64(52.241), nan, nan, np.float64(77560.0)]), ('Honduras', 2023): (2.5, [np.float64(59.290665), np.float64(27.227), np.float64(5.968), np.float64(40.311), nan, nan, np.float64(6640.0)]), ('Croatia', 2023): (1.46, [np.float64(65.20433), np.float64(30.66), np.float64(5.942), np.float64(47.341), nan, nan, np.float64(45440.0)]), ('Haiti', 2023): (2.656, [np.float64(62.496166), np.float64(29.559), nan, nan, nan, nan, np.float64(3280.0)]), ('Hungary', 2023): (1.51, [np.float64(72.358536), np.float64(29.958), np.float64(6.017), np.float64(54.471), np.float64(2769.77742768138), nan, np.float64(43980.0)]), ('Indonesia', 2023): (2.127, [np.float64(52.43259), np.float64(28.95), np.float64(5.568), np.float64(53.386), nan, nan, np.float64(15010.0)]), ('Isle of Man', 2023): (1.548, [nan, np.float64(29.7), nan, nan, nan, nan, nan]), ('India', 2023): (1.975, [np.float64(37.489086), np.float64(27.534), np.float64(4.054), np.float64(35.085), nan, nan, np.float64(10180.0)]), ('Ireland', 2023): (1.5, [np.float64(68.66421), np.float64(32.702), np.float64(6.838), np.float64(60.426), nan, nan, np.float64(95120.0)]), ('Iran, Islamic Rep.', 2023): (1.695, [np.float64(75.76715), np.float64(28.779), np.float64(4.923), nan, nan, nan, np.float64(17620.0)]), ('Iraq', 2023): (3.249, [np.float64(72.30108), np.float64(28.621), np.float64(5.166), nan, nan, nan, np.float64(14710.0)]), ('Iceland', 2023): (1.59, [np.float64(72.73962), np.float64(30.835), np.float64(7.525), np.float64(70.456), np.float64(6474.59661449344), nan, np.float64(78070.0)]), ('Israel', 2023): (2.85, [np.float64(58.288425), np.float64(30.867), np.float64(7.341), np.float64(61.377), nan, nan, np.float64(53100.0)]), ('Italy', 2023): (1.2, [np.float64(72.48599), np.float64(32.309), np.float64(6.324), np.float64(41.503), np.float64(4934.62771246372), nan, np.float64(57590.0)]), ('Jamaica', 2023): (1.358, [np.float64(60.226597), np.float64(27.932), np.float64(5.842), np.float64(60.577), nan, nan, np.float64(11300.0)]), ('Jordan', 2023): (2.639, [np.float64(83.1052), np.float64(29.823), np.float64(4.186), nan, nan, nan, np.float64(10330.0)]), ('Japan', 2023): (1.2, [np.float64(71.729065), np.float64(31.915), np.float64(6.06), np.float64(54.8), nan, nan, np.float64(52860.0)]), ('Kazakhstan', 2023): (3.012, [np.float64(66.39983), np.float64(28.956), np.float64(6.188), nan, nan, nan, np.float64(34600.0)]), ('Kenya', 2023): (3.208, [np.float64(28.947062), np.float64(28.203), np.float64(4.47), nan, nan, nan, np.float64(6200.0)]), ('Kyrgyz Republic', 2023): (2.7, [np.float64(42.26374), np.float64(28.461), np.float64(5.714), nan, nan, nan, np.float64(7200.0)]), ('Cambodia', 2023): (2.579, [np.float64(25.638426), np.float64(27.896), np.float64(4.341), nan, nan, nan, np.float64(7260.0)]), ('Kiribati', 2023): (3.147, [nan, np.float64(29.077), nan, nan, nan, nan, np.float64(5740.0)]), ('St. Kitts and Nevis', 2023): (1.505, [np.float64(37.2528), np.float64(27.552), nan, nan, nan, nan, np.float64(33810.0)]), ('Korea, Rep.', 2023): (0.721, [np.float64(86.33531), np.float64(33.424), np.float64(6.058), np.float64(56.074), np.float64(5350.0739191393), nan, np.float64(53180.0)]), ('Kuwait', 2023): (1.524, [np.float64(100.0), np.float64(30.328), np.float64(6.951), nan, nan, nan, np.float64(63380.0)]), ('Lao PDR', 2023): (2.421, [np.float64(43.02832), np.float64(26.26), np.float64(5.139), nan, nan, nan, np.float64(8610.0)]), ('Lebanon', 2023): (2.239, [np.float64(89.48801), np.float64(29.242), np.float64(2.707), nan, nan, nan, np.float64(12530.0)]), ('Liberia', 2023): (3.95, [np.float64(56.16434), np.float64(28.257), np.float64(4.269), nan, nan, nan, np.float64(1680.0)]), ('Libya', 2023): (2.355, [np.float64(82.59371), np.float64(31.885), np.float64(5.866), nan, nan, nan, np.float64(13910.0)]), ('St. Lucia', 2023): (1.379, [np.float64(32.266598), np.float64(28.764), nan, nan, nan, nan, np.float64(23850.0)]), ('Liechtenstein', 2023): (1.45, [np.float64(16.004658), np.float64(32.182), nan, nan, nan, nan, nan]), ('Sri Lanka', 2023): (1.974, [np.float64(19.545845), np.float64(29.609), np.float64(3.898), nan, nan, nan, np.float64(14020.0)]), ('Lesotho', 2023): (2.694, [np.float64(36.038677), np.float64(27.91), np.float64(3.186), nan, nan, nan, np.float64(3500.0)]), ('Lithuania', 2023): (1.18, [np.float64(71.68666), np.float64(30.324), np.float64(6.818), np.float64(58.492), np.float64(3523.3313032021), nan, np.float64(49360.0)]), ('Luxembourg', 2023): (1.25, [np.float64(87.8759), np.float64(32.323), np.float64(7.122), np.float64(58.229), np.float64(8174.95841299686), nan, np.float64(98850.0)]), ('Latvia', 2023): (1.36, [np.float64(71.98818), np.float64(30.317), np.float64(6.234), np.float64(55.674), nan, nan, np.float64(40510.0)]), ('Macao SAR, China', 2023): (0.586, [nan, np.float64(32.107), nan, nan, nan, nan, np.float64(113490.0)]), ('Morocco', 2023): (2.23, [np.float64(65.87978), np.float64(29.935), np.float64(4.795), nan, nan, nan, np.float64(9700.0)]), ('Monaco', 2023): (2.11, [nan, np.float64(30.852), nan, nan, nan, nan, nan]), ('Moldova', 2023): (1.731, [np.float64(55.091457), np.float64(27.991), np.float64(5.816), np.float64(71.25), nan, nan, np.float64(18030.0)]), ('Madagascar', 2023): (3.972, [np.float64(38.053696), np.float64(27.869), np.float64(4.228), nan, nan, nan, np.float64(1770.0)]), ('Maldives', 2023): (1.575, [nan, np.float64(30.177), nan, nan, nan, nan, np.float64(21890.0)]), ('Mexico', 2023): (1.91, [np.float64(82.06279), np.float64(26.796), np.float64(6.678), np.float64(46.244), nan, nan, np.float64(24240.0)]), ('Marshall Islands', 2023): (2.919, [nan, np.float64(27.098), nan, nan, nan, nan, np.float64(9000.0)]), ('North Macedonia', 2023): (1.5, [np.float64(66.94907), np.float64(28.999), np.float64(5.369), np.float64(42.468), nan, nan, np.float64(23140.0)]), ('Mali', 2023): (5.614, [np.float64(44.585857), np.float64(28.859), np.float64(4.232), nan, nan, nan, np.float64(3050.0)]), ('Malta', 2023): (1.06, [np.float64(88.73605), np.float64(30.876), np.float64(6.346), np.float64(57.2), nan, nan, np.float64(54540.0)]), ('Myanmar', 2023): (2.115, [np.float64(41.7287), np.float64(28.808), np.float64(4.354), nan, nan, nan, np.float64(5840.0)]), ('Montenegro', 2023): (1.74, [nan, np.float64(30.199), np.float64(5.707), nan, nan, nan, np.float64(30890.0)]), ('Mongolia', 2023): (2.7, [np.float64(68.749115), np.float64(29.331), np.float64(5.696), np.float64(52.747), nan, nan, np.float64(16030.0)]), ('Northern Mariana Islands', 2023): (2.348, [nan, np.float64(29.053), nan, nan, nan, nan, nan]), ('Mozambique', 2023): (4.763, [np.float64(44.54934), np.float64(28.363), np.float64(5.216), nan, nan, nan, np.float64(1530.0)]), ('Mauritania', 2023): (4.697, [np.float64(49.244057), np.float64(30.221), np.float64(4.505), nan, nan, nan, np.float64(6950.0)]), ('Mauritius', 2023): (1.39, [np.float64(49.789837), np.float64(29.132), np.float64(5.816), np.float64(46.862), nan, nan, np.float64(31670.0)]), ('Malawi', 2023): (3.648, [np.float64(25.333288), np.float64(27.689), np.float64(3.421), nan, nan, nan, np.float64(1780.0)]), ('Malaysia', 2023): (1.55, [np.float64(76.783676), np.float64(30.96), np.float64(5.975), nan, nan, nan, np.float64(35360.0)]), ('Namibia', 2023): (3.212, [np.float64(45.89092), np.float64(28.943), np.float64(4.832), nan, nan, nan, np.float64(10710.0)]), ('New Caledonia', 2023): (1.98, [np.float64(61.483025), np.float64(30.487), nan, nan, nan, nan, nan]), ('Niger', 2023): (6.061, [np.float64(22.460955), np.float64(29.085), np.float64(4.556), nan, nan, nan, np.float64(1850.0)]), ('Nigeria', 2023): (4.482, [np.float64(57.828648), np.float64(29.234), np.float64(4.881), nan, nan, nan, np.float64(6020.0)]), ('Nicaragua', 2023): (2.218, [np.float64(64.44615), np.float64(25.969), np.float64(6.284), nan, nan, nan, np.float64(7940.0)]), ('Netherlands', 2023): (1.43, [np.float64(86.238365), np.float64(31.779), np.float64(7.319), np.float64(64.081), nan, nan, np.float64(77650.0)]), ('Norway', 2023): (1.4, [np.float64(83.969215), np.float64(31.57), np.float64(7.302), np.float64(62.131), nan, nan, np.float64(105610.0)]), ('Nepal', 2023): (1.984, [np.float64(24.502125), np.float64(25.346), np.float64(5.158), nan, nan, nan, np.float64(5460.0)]), ('Nauru', 2023): (3.331, [nan, np.float64(27.149), nan, nan, nan, nan, np.float64(23720.0)]), ('New Zealand', 2023): (1.56, [np.float64(88.83333), np.float64(30.639), np.float64(7.029), np.float64(67.609), nan, nan, np.float64(52000.0)]), ('Oman', 2023): (2.525, [np.float64(77.70169), np.float64(31.652), nan, nan, nan, nan, np.float64(39790.0)]), ('Pakistan', 2023): (3.605, [np.float64(43.693256), np.float64(28.875), np.float64(4.657), nan, nan, nan, np.float64(5930.0)]), ('Panama', 2023): (2.119, [np.float64(79.91764), np.float64(27.333), np.float64(6.358), np.float64(50.372), nan, nan, np.float64(37880.0)]), ('Peru', 2023): (1.98, [np.float64(78.62244), np.float64(28.762), np.float64(5.841), np.float64(65.098), nan, nan, np.float64(16100.0)]), ('Philippines', 2023): (1.916, [np.float64(59.243046), np.float64(28.975), np.float64(6.048), nan, np.float64(568.954562173227), nan, np.float64(12190.0)]), ('Palau', 2023): (1.907, [nan, np.float64(28.525), nan, nan, nan, nan, np.float64(16500.0)]), ('Papua New Guinea', 2023): (3.099, [np.float64(11.528901), np.float64(29.261), nan, nan, nan, nan, np.float64(4320.0)]), ('Poland', 2023): (1.158, [np.float64(67.67035), np.float64(29.889), np.float64(6.442), np.float64(51.972), np.float64(3401.61178406886), nan, np.float64(44980.0)]), ('Puerto Rico (US)', 2023): (0.92, [np.float64(99.4904), np.float64(27.752), nan, nan, nan, nan, np.float64(32830.0)]), (\"Korea, Dem. People's Rep.\", 2023): (1.78, [np.float64(67.39183), np.float64(28.777), nan, nan, nan, nan, nan]), ('Portugal', 2023): (1.44, [np.float64(67.48844), np.float64(31.727), np.float64(6.03), np.float64(55.562), np.float64(4451.52657789566), nan, np.float64(46170.0)]), ('Paraguay', 2023): (2.422, [np.float64(68.20849), np.float64(27.668), np.float64(5.977), np.float64(59.149), nan, nan, np.float64(16920.0)]), ('West Bank and Gaza', 2023): (3.311, [nan, np.float64(28.551), np.float64(4.879), nan, nan, nan, np.float64(7180.0)]), ('French Polynesia', 2023): (1.501, [nan, np.float64(29.195), nan, nan, nan, nan, nan]), ('Qatar', 2023): (1.729, [np.float64(46.224564), np.float64(30.396), nan, nan, nan, nan, np.float64(125240.0)]), ('Romania', 2023): (1.71, [np.float64(64.59533), np.float64(28.141), np.float64(6.491), np.float64(41.928), nan, nan, np.float64(44640.0)]), ('Russian Federation', 2023): (1.41, [np.float64(78.12452), np.float64(28.9), np.float64(5.785), np.float64(56.207), nan, nan, np.float64(43690.0)]), ('Rwanda', 2023): (3.698, [np.float64(24.698296), np.float64(30.59), nan, np.float64(58.143), nan, nan, np.float64(3330.0)]), ('Saudi Arabia', 2023): (2.28, [np.float64(85.57482), np.float64(30.14), np.float64(6.594), np.float64(34.611), nan, nan, np.float64(72020.0)]), ('Sudan', 2023): (4.323, [np.float64(47.99037), np.float64(29.805), nan, nan, nan, nan, np.float64(2360.0)]), ('Senegal', 2023): (3.818, [np.float64(50.530487), np.float64(29.92), np.float64(4.969), nan, nan, nan, np.float64(4620.0)]), ('Singapore', 2023): (0.97, [np.float64(100.0), np.float64(32.291), np.float64(6.523), np.float64(62.641), nan, nan, np.float64(117340.0)]), ('Solomon Islands', 2023): (3.557, [np.float64(24.842701), np.float64(29.166), nan, nan, nan, nan, np.float64(2840.0)]), ('Sierra Leone', 2023): (3.791, [np.float64(46.08112), np.float64(28.573), np.float64(3.245), nan, nan, nan, np.float64(3340.0)]), ('El Salvador', 2023): (1.775, [np.float64(70.2135), np.float64(27.141), np.float64(6.469), np.float64(48.79), nan, nan, np.float64(11880.0)]), ('San Marino', 2023): (1.149, [nan, np.float64(32.848), nan, nan, nan, nan, nan]), ('Somalia', 2023): (6.132, [np.float64(45.014423), np.float64(29.416), nan, nan, nan, nan, np.float64(1550.0)]), ('Serbia', 2023): (1.61, [nan, np.float64(29.505), np.float64(6.411), np.float64(51.505), nan, nan, np.float64(27250.0)]), ('South Sudan', 2023): (3.864, [nan, np.float64(28.605), nan, nan, nan, nan, nan]), ('Sao Tome and Principe', 2023): (3.644, [np.float64(70.526794), np.float64(28.467), nan, nan, nan, nan, np.float64(6210.0)]), ('Suriname', 2023): (2.249, [np.float64(74.659904), np.float64(28.408), nan, nan, nan, nan, np.float64(19170.0)]), ('Slovak Republic', 2023): (1.49, [np.float64(62.279785), np.float64(28.923), np.float64(6.257), np.float64(56.257), nan, nan, np.float64(43030.0)]), ('Slovenia', 2023): (1.51, [np.float64(57.303448), np.float64(30.442), np.float64(6.743), np.float64(53.809), np.float64(5035.2152887856), nan, np.float64(53450.0)]), ('Sweden', 2023): (1.45, [np.float64(87.61533), np.float64(31.575), np.float64(7.344), np.float64(64.382), np.float64(7659.37710948307), nan, np.float64(70140.0)]), ('Eswatini', 2023): (2.753, [np.float64(27.941381), np.float64(27.891), np.float64(3.502), nan, nan, nan, np.float64(10560.0)]), ('Sint Maarten (Dutch part)', 2023): (1.447, [nan, np.float64(28.897), nan, nan, nan, nan, np.float64(48320.0)]), ('Seychelles', 2023): (2.02, [nan, np.float64(27.579), nan, np.float64(61.277), nan, nan, np.float64(30920.0)]), ('Syrian Arab Republic', 2023): (2.712, [np.float64(63.00013), np.float64(28.829), nan, nan, nan, nan, np.float64(4480.0)]), ('Turks and Caicos Islands', 2023): (1.463, [np.float64(96.741905), np.float64(30.382), nan, nan, nan, nan, np.float64(34050.0)]), ('Chad', 2023): (6.12, [np.float64(35.728035), np.float64(29.239), np.float64(4.471), nan, nan, nan, np.float64(2900.0)]), ('Togo', 2023): (4.192, [np.float64(52.013237), np.float64(29.077), np.float64(4.214), nan, nan, nan, np.float64(3080.0)]), ('Thailand', 2023): (1.212, [np.float64(41.580093), np.float64(28.291), np.float64(5.976), np.float64(60.613), nan, nan, np.float64(22930.0)]), ('Tajikistan', 2023): (3.072, [np.float64(33.79476), np.float64(26.523), np.float64(5.281), nan, nan, nan, np.float64(6190.0)]), ('Turkmenistan', 2023): (2.69, [np.float64(57.25612), np.float64(27.818), nan, nan, nan, nan, np.float64(19670.0)]), ('Timor-Leste', 2023): (2.707, [np.float64(36.37745), np.float64(29.409), nan, nan, nan, nan, np.float64(5630.0)]), ('Tonga', 2023): (3.129, [np.float64(27.0471), np.float64(29.945), nan, nan, nan, nan, np.float64(8560.0)]), ('Trinidad and Tobago', 2023): (1.532, [np.float64(19.327875), np.float64(27.768), nan, nan, nan, nan, np.float64(35310.0)]), ('Tunisia', 2023): (1.832, [np.float64(71.710106), np.float64(31.332), np.float64(4.422), np.float64(26.676), nan, nan, np.float64(13660.0)]), ('Turkiye', 2023): (1.51, [np.float64(73.35685), np.float64(29.217), np.float64(4.975), np.float64(35.802), nan, nan, np.float64(41890.0)]), ('Tuvalu', 2023): (3.208, [nan, np.float64(29.192), nan, nan, nan, nan, np.float64(8320.0)]), ('Tanzania', 2023): (4.606, [np.float64(33.85987), np.float64(28.943), np.float64(3.781), nan, nan, nan, np.float64(3940.0)]), ('Uganda', 2023): (4.283, [np.float64(18.659124), np.float64(28.323), np.float64(4.372), nan, nan, nan, np.float64(3020.0)]), ('Ukraine', 2023): (0.977, [np.float64(73.272156), np.float64(28.101), np.float64(4.873), nan, nan, nan, np.float64(18160.0)]), ('Uruguay', 2023): (1.409, [np.float64(93.74505), np.float64(29.166), np.float64(6.611), np.float64(57.264), nan, nan, np.float64(32040.0)]), ('United States', 2023): (1.6165, [np.float64(85.785065), np.float64(29.898), np.float64(6.725), np.float64(57.332), nan, nan, np.float64(82600.0)]), ('Uzbekistan', 2023): (3.5, [np.float64(43.944805), np.float64(27.045), np.float64(6.195), nan, nan, nan, np.float64(11210.0)]), ('St. Vincent and the Grenadines', 2023): (1.775, [np.float64(56.4075), np.float64(28.189), nan, nan, nan, nan, np.float64(19860.0)]), ('Venezuela, RB', 2023): (2.079, [np.float64(95.98469), np.float64(26.292), np.float64(5.607), nan, nan, nan, nan]), ('British Virgin Islands', 2023): (1.045, [nan, np.float64(28.479), nan, nan, nan, nan, nan]), ('Virgin Islands (U.S.)', 2023): (1.98, [np.float64(96.6051), np.float64(27.67), nan, nan, nan, nan, nan]), ('Viet Nam', 2023): (1.913, [np.float64(38.37104), np.float64(27.189), np.float64(6.043), np.float64(67.924), nan, nan, np.float64(14260.0)]), ('Vanuatu', 2023): (3.596, [np.float64(33.1009), np.float64(28.094), nan, nan, nan, nan, np.float64(3940.0)]), ('Samoa', 2023): (3.829, [np.float64(22.511457), np.float64(29.267), nan, nan, nan, nan, np.float64(6930.0)]), ('Kosovo', 2023): (1.545, [nan, np.float64(29.705), np.float64(6.561), nan, nan, nan, np.float64(16130.0)]), ('Yemen, Rep.', 2023): (4.59, [np.float64(40.488636), np.float64(29.733), np.float64(3.561), nan, nan, nan, nan]), ('South Africa', 2023): (2.216, [np.float64(68.462906), np.float64(28.298), np.float64(5.422), np.float64(49.016), nan, nan, np.float64(14990.0)]), ('Zambia', 2023): (4.101, [np.float64(43.578606), np.float64(28.444), np.float64(3.502), nan, nan, nan, np.float64(3880.0)]), ('Zimbabwe', 2023): (3.724, [np.float64(45.938335), np.float64(28.062), np.float64(3.341), np.float64(62.099), nan, nan, np.float64(3770.0)])}\n"
          ]
        }
      ]
    }
  ],
  "metadata": {
    "colab": {
      "name": "Welcome to Colab",
      "provenance": [],
      "include_colab_link": true
    },
    "kernelspec": {
      "display_name": "Python 3",
      "name": "python3"
    }
  },
  "nbformat": 4,
  "nbformat_minor": 0
}
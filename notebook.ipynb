{
  "cells": [
    {
      "cell_type": "markdown",
      "metadata": {
        "id": "view-in-github",
        "colab_type": "text"
      },
      "source": [
        "<a href=\"https://colab.research.google.com/github/tomik062/AI_Project/blob/main/notebook.ipynb\" target=\"_parent\"><img src=\"https://colab.research.google.com/assets/colab-badge.svg\" alt=\"Open In Colab\"/></a>"
      ]
    },
    {
      "cell_type": "markdown",
      "source": [
        "extract data from github and merge together"
      ],
      "metadata": {
        "id": "QoOciPbUXoL8"
      }
    },
    {
      "cell_type": "code",
      "source": [
        "import requests\n",
        "import os\n",
        "import importlib.util\n",
        "\n",
        "# Define the GitHub details\n",
        "repo_owner = 'tomik062'\n",
        "repo_name = 'AI_Project'\n",
        "file_path = 'extract_data.py'\n",
        "url = f'https://raw.githubusercontent.com/{repo_owner}/{repo_name}/main/{file_path}'\n",
        "\n",
        "# Directory to save the downloaded file\n",
        "download_dir = 'data_extraction_code'\n",
        "if not os.path.exists(download_dir):\n",
        "    os.makedirs(download_dir)\n",
        "\n",
        "local_file_path = os.path.join(download_dir, file_path)\n",
        "\n",
        "# Download the file\n",
        "response = requests.get(url)\n",
        "response.raise_for_status() # Raise an exception for bad status codes\n",
        "\n",
        "with open(local_file_path, 'wb') as f:\n",
        "    f.write(response.content)\n",
        "\n",
        "print(f\"Downloaded {file_path} to {local_file_path}\")\n",
        "\n",
        "# Import the function from the downloaded file\n",
        "spec = importlib.util.spec_from_file_location(\"extract_data_module\", local_file_path)\n",
        "module = importlib.util.module_from_spec(spec)\n",
        "spec.loader.exec_module(module)\n",
        "\n",
        "# Call the extract_data function and print the output\n",
        "data_output = module.extract_data()"
      ],
      "metadata": {
        "colab": {
          "base_uri": "https://localhost:8080/"
        },
        "id": "prjUcK7VXGll",
        "outputId": "6cbb3da9-0177-4b1a-b912-85b7bc3ce763"
      },
      "execution_count": 2,
      "outputs": [
        {
          "output_type": "stream",
          "name": "stdout",
          "text": [
            "Downloaded extract_data.py to data_extraction_code/extract_data.py\n",
            "Downloaded GNI_PPP_const_2021_dollars.csv to data/GNI_PPP_const_2021_dollars.csv\n",
            "Downloaded Religious-Composition-percentages.csv to data/Religious-Composition-percentages.csv\n",
            "Downloaded abortion-rates-by-country-2025.csv to data/abortion-rates-by-country-2025.csv\n",
            "Downloaded age-at-first-marriage-by-country-2025.csv to data/age-at-first-marriage-by-country-2025.csv\n",
            "Downloaded average-workweek-by-country-2025.csv to data/average-workweek-by-country-2025.csv\n",
            "Downloaded female-labor-force-participation-rates-slopes.csv to data/female-labor-force-participation-rates-slopes.csv\n",
            "Downloaded gender-inequality-index.xlsx to data/gender-inequality-index.xlsx\n",
            "Downloaded happiness-cantril-ladder.csv to data/happiness-cantril-ladder.csv\n",
            "Downloaded healthcare-expenditure-per-capita-ppp.csv to data/healthcare-expenditure-per-capita-ppp.csv\n",
            "Downloaded high_education_female.xlsx to data/high_education_female.xlsx\n",
            "Downloaded high_education_male.xlsx to data/high_education_male.xlsx\n",
            "Downloaded human_development_index.xlsx to data/human_development_index.xlsx\n",
            "Downloaded maternity-leave-by-country-2025.csv to data/maternity-leave-by-country-2025.csv\n",
            "Downloaded period-average-age-of-mothers.csv to data/period-average-age-of-mothers.csv\n",
            "Downloaded physicians-per-capita.csv to data/physicians-per-capita.csv\n",
            "Downloaded social-media-users-by-country-2025.csv to data/social-media-users-by-country-2025.csv\n",
            "Downloaded total-fertility-rate.csv to data/total-fertility-rate.csv\n",
            "Downloaded urban-population-share.csv to data/urban-population-share.csv\n"
          ]
        }
      ]
    },
    {
      "cell_type": "code",
      "source": [
        "def calc_features_year(data,year):\n",
        "    feature_map = {\n",
        "        'urbanization': 0,\n",
        "        'avg birth age': 1,\n",
        "        'happiness': 2,\n",
        "        'female labor participation': 3,\n",
        "        'health expenditure': 4,\n",
        "        'physicians per capita': 5,\n",
        "        'GNI PPP': 6,\n",
        "        'region': 7,\n",
        "        'christians': 8,\n",
        "        'muslims': 9,\n",
        "        'no religion': 10,\n",
        "        'buddhists': 11,\n",
        "        'hindus': 12,\n",
        "        'jews': 13,\n",
        "        'other religion': 14,\n",
        "        'education man': 15,\n",
        "        'education women': 16,\n",
        "        'hdi': 17,\n",
        "        'gii': 18,\n",
        "        'avg marriage age women': 19,\n",
        "        'avg marriage age men': 20,\n",
        "        'maternity leave index': 21,\n",
        "        'work hours men': 22,\n",
        "        'work hours women': 23,\n",
        "        'abortions': 24,\n",
        "        'social media users': 25\n",
        "    }\n",
        ""
      ],
      "metadata": {
        "id": "cCWbIjgpEHDt"
      },
      "execution_count": null,
      "outputs": []
    }
  ],
  "metadata": {
    "colab": {
      "name": "Welcome to Colab",
      "provenance": [],
      "include_colab_link": true
    },
    "kernelspec": {
      "display_name": "Python 3",
      "name": "python3"
    }
  },
  "nbformat": 4,
  "nbformat_minor": 0
}
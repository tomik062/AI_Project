{
  "cells": [
    {
      "cell_type": "markdown",
      "metadata": {
        "id": "view-in-github",
        "colab_type": "text"
      },
      "source": [
        "<a href=\"https://colab.research.google.com/github/tomik062/AI_Project/blob/main/notebook.ipynb\" target=\"_parent\"><img src=\"https://colab.research.google.com/assets/colab-badge.svg\" alt=\"Open In Colab\"/></a>"
      ]
    },
    {
      "cell_type": "markdown",
      "source": [
        "extract data from github and merge together"
      ],
      "metadata": {
        "id": "QoOciPbUXoL8"
      }
    },
    {
      "cell_type": "code",
      "source": [
        "import requests\n",
        "import os\n",
        "import importlib.util\n",
        "\n",
        "# Define the GitHub details\n",
        "repo_owner = 'tomik062'\n",
        "repo_name = 'AI_Project'\n",
        "file_path = 'extract_data.py'\n",
        "url = f'https://raw.githubusercontent.com/{repo_owner}/{repo_name}/main/{file_path}'\n",
        "\n",
        "# Directory to save the downloaded file\n",
        "download_dir = 'data_extraction_code'\n",
        "if not os.path.exists(download_dir):\n",
        "    os.makedirs(download_dir)\n",
        "\n",
        "local_file_path = os.path.join(download_dir, file_path)\n",
        "\n",
        "# Download the file\n",
        "response = requests.get(url)\n",
        "response.raise_for_status() # Raise an exception for bad status codes\n",
        "\n",
        "with open(local_file_path, 'wb') as f:\n",
        "    f.write(response.content)\n",
        "\n",
        "print(f\"Downloaded {file_path} to {local_file_path}\")\n",
        "\n",
        "# Import the function from the downloaded file\n",
        "spec = importlib.util.spec_from_file_location(\"extract_data_module\", local_file_path)\n",
        "module = importlib.util.module_from_spec(spec)\n",
        "spec.loader.exec_module(module)\n",
        "\n",
        "# Call the extract_data function and print the output\n",
        "data_output = module.extract_data()"
      ],
      "metadata": {
        "colab": {
          "base_uri": "https://localhost:8080/"
        },
        "id": "prjUcK7VXGll",
        "outputId": "292a7606-8511-4c56-cf0a-209be841f960"
      },
      "execution_count": 1,
      "outputs": [
        {
          "output_type": "stream",
          "name": "stdout",
          "text": [
            "Downloaded extract_data.py to data_extraction_code/extract_data.py\n",
            "Downloaded GNI_PPP_const_2021_dollars.csv to data/GNI_PPP_const_2021_dollars.csv\n",
            "Downloaded Religious-Composition-percentages.csv to data/Religious-Composition-percentages.csv\n",
            "Downloaded abortion-rates-by-country-2025.csv to data/abortion-rates-by-country-2025.csv\n",
            "Downloaded age-at-first-marriage-by-country-2025.csv to data/age-at-first-marriage-by-country-2025.csv\n",
            "Downloaded average-workweek-by-country-2025.csv to data/average-workweek-by-country-2025.csv\n",
            "Downloaded female-labor-force-participation-rates-slopes.csv to data/female-labor-force-participation-rates-slopes.csv\n",
            "Downloaded gender-inequality-index.xlsx to data/gender-inequality-index.xlsx\n",
            "Downloaded happiness-cantril-ladder.csv to data/happiness-cantril-ladder.csv\n",
            "Downloaded healthcare-expenditure-per-capita-ppp.csv to data/healthcare-expenditure-per-capita-ppp.csv\n",
            "Downloaded high_education_female.xlsx to data/high_education_female.xlsx\n",
            "Downloaded high_education_male.xlsx to data/high_education_male.xlsx\n",
            "Downloaded human_development_index.xlsx to data/human_development_index.xlsx\n",
            "Downloaded maternity-leave-by-country-2025.csv to data/maternity-leave-by-country-2025.csv\n",
            "Downloaded period-average-age-of-mothers.csv to data/period-average-age-of-mothers.csv\n",
            "Downloaded physicians-per-capita.csv to data/physicians-per-capita.csv\n",
            "Downloaded social-media-users-by-country-2025.csv to data/social-media-users-by-country-2025.csv\n",
            "Downloaded total-fertility-rate.csv to data/total-fertility-rate.csv\n",
            "Downloaded urban-population-share.csv to data/urban-population-share.csv\n"
          ]
        }
      ]
    },
    {
      "cell_type": "code",
      "source": [
        "import pandas as pd\n",
        "import numpy as np\n",
        "def calc_features_year(data,year):\n",
        "    feature_map = {\n",
        "        'urbanization': 0,\n",
        "        'avg birth age': 1,\n",
        "        'happiness': 2,\n",
        "        'female labor participation': 3,\n",
        "        'health expenditure': 4,\n",
        "        'physicians per capita': 5,\n",
        "        'GNI PPP': 6,\n",
        "        'christians': 7,\n",
        "        'muslims': 8,\n",
        "        'no religion': 9,\n",
        "        'buddhists': 10,\n",
        "        'hindus': 11,\n",
        "        'jews': 12,\n",
        "        'other religion': 13,\n",
        "        'in Asia-Pacific':14,\n",
        "        'in Europe':15,\n",
        "        'in Latin America-Caribbean':16,\n",
        "        'in Middle East-North Africa':17,\n",
        "        'in North America':18,\n",
        "        'in Sub-Saharan Africa':19,\n",
        "        'education man': 20,\n",
        "        'education women': 21,\n",
        "        'hdi': 22,\n",
        "        'gii': 23,\n",
        "        'avg marriage age women': 24,\n",
        "        'avg marriage age men': 25,\n",
        "        'maternity leave index': 26,\n",
        "        'work hours men': 27,\n",
        "        'work hours women': 28,\n",
        "        'abortions': 29,\n",
        "        'social media users': 30\n",
        "    }\n",
        "    countries = sorted(list(set([key[0] for key in data.keys()])))\n",
        "    df = pd.DataFrame(index=countries, columns=feature_map.keys())\n",
        "\n",
        "    # Populate the DataFrame\n",
        "    for country in countries:\n",
        "        key = (country, year)\n",
        "        if key in data:\n",
        "            features = data[key][1]\n",
        "            for feature_name, feature_index in feature_map.items():\n",
        "                if feature_index < len(features):\n",
        "                  df.loc[country, feature_name] = features[feature_index]\n",
        "                  if str(features[feature_index]) =='nan':\n",
        "                    df.loc[country, feature_name]=handle_missing_values(data,feature_index,country,year)\n",
        "    return df\n",
        "\n",
        "\n",
        "\n",
        "def handle_missing_values(data, feature_index, country, year):\n",
        "    # try taking the value from the last 3 years\n",
        "    for i in range(1, 4):\n",
        "        past_year = year - i\n",
        "        if (country, past_year) in data:\n",
        "            past_data = data[(country, past_year)][1] # Access the list of features\n",
        "            if feature_index < len(past_data) and str(past_data[feature_index])!='nan':\n",
        "                return past_data[feature_index]\n",
        "\n",
        "    # otherwise if missing last 3 years, linearly extrapulate from last decade\n",
        "    recent_years_data = []\n",
        "    for i in range(10,0,-1):\n",
        "        past_year = year - i\n",
        "        if (country, past_year) in data:\n",
        "            past_data = data[(country, past_year)][1] # Access the list of features\n",
        "            if feature_index < len(past_data) and not pd.isna(past_data[feature_index]):\n",
        "                 recent_years_data.append((past_year, past_data[feature_index]))\n",
        "\n",
        "    if len(recent_years_data) >= 2:\n",
        "        years = [item[0] for item in recent_years_data]\n",
        "        values = [item[1] for item in recent_years_data]\n",
        "        # Linear extrapolation using linear regression with polyfit\n",
        "        try:\n",
        "            m, c = np.polyfit(years, values, 1)\n",
        "            extrapolated_value = m * year + c\n",
        "            return extrapolated_value\n",
        "        except np.linalg.LinAlgError:\n",
        "            # Handle cases where polyfit fails (e.g., all years are the same)\n",
        "            return values[-1] # Return the last known value\n",
        "    elif len(recent_years_data) == 1:\n",
        "         # If only one data point in the last 10 years, use that value\n",
        "         return recent_years_data[0][1]\n",
        "\n",
        "    # If still missing after checking last 10 years, return NaN\n",
        "    return np.nan"
      ],
      "metadata": {
        "id": "cCWbIjgpEHDt"
      },
      "execution_count": 2,
      "outputs": []
    },
    {
      "cell_type": "code",
      "source": [
        "import pandas as pd\n",
        "import numpy as np\n",
        "\n",
        "\n",
        "df_features = calc_features_year(data_output,2023)\n",
        "\n",
        "# Identify countries with and without NaN values\n",
        "countries_with_nan = df_features[df_features.isnull().any(axis=1)].index.tolist()\n",
        "countries_without_nan = df_features.dropna().index.tolist()\n",
        "countries_with_one_nan = df_features[df_features.isnull().sum(axis=1) == 1].index.tolist()\n",
        "\n",
        "# Print the results\n",
        "print(\"Countries with NaN values in their features:\")\n",
        "print(countries_with_nan)\n",
        "print(\"\\nCountries without NaN values in their features:\")\n",
        "print(countries_without_nan)\n",
        "print(\"\\nCountries with exactly one NaN value in their features:\")\n",
        "print(countries_with_one_nan)\n",
        "\n",
        "print(f\"\\nNumber of countries with NaN values: {len(countries_with_nan)}\")\n",
        "print(f\"Number of countries without NaN values: {len(countries_without_nan)}\")\n",
        "print(f\"Number of countries with exactly one NaN value: {len(countries_with_one_nan)}\")\n",
        "\n",
        "# Group countries by their single missing feature\n",
        "missing_features_grouped = {}\n",
        "if countries_with_one_nan:\n",
        "    for country in countries_with_one_nan:\n",
        "        missing_feature_name = df_features.loc[country].isnull().idxmax()\n",
        "        if missing_feature_name not in missing_features_grouped:\n",
        "            missing_features_grouped[missing_feature_name] = []\n",
        "        missing_features_grouped[missing_feature_name].append(country)\n",
        "\n",
        "    # Print countries grouped by missing feature\n",
        "    print(\"\\nMissing feature for countries with exactly one NaN:\")\n",
        "    for feature, countries in missing_features_grouped.items():\n",
        "        print(f\"  Missing feature is '{feature}':\")\n",
        "        print(f\"    Countries: {', '.join(countries)}\")"
      ],
      "metadata": {
        "colab": {
          "base_uri": "https://localhost:8080/"
        },
        "collapsed": true,
        "id": "4H0S2X3MyK0n",
        "outputId": "3ece8158-4c63-4fbd-bd04-3f4fd50fe469"
      },
      "execution_count": 3,
      "outputs": [
        {
          "output_type": "stream",
          "name": "stdout",
          "text": [
            "Countries with NaN values in their features:\n",
            "['Afghanistan', 'Albania', 'American Samoa', 'Andorra', 'Angola', 'Antigua and Barbuda', 'Armenia', 'Aruba', 'Azerbaijan', 'Bahamas, The', 'Bahrain', 'Barbados', 'Bermuda', 'Bhutan', 'Bosnia and Herzegovina', 'British Virgin Islands', 'Brunei Darussalam', 'Cabo Verde', 'Cayman Islands', 'Central African Republic', 'Channel Islands', 'China', 'Congo, Rep.', 'Cuba', 'Curacao', 'Cyprus', 'Dominica', 'Dominican Republic', 'Equatorial Guinea', 'Eritrea', 'Faroe Islands', 'Fiji', 'French Polynesia', 'Gabon', 'Georgia', 'Gibraltar', 'Greenland', 'Grenada', 'Guam', 'Guinea-Bissau', 'Guyana', 'Haiti', 'Hong Kong SAR, China', 'Iraq', 'Ireland', 'Isle of Man', 'Jordan', 'Kazakhstan', 'Kiribati', \"Korea, Dem. People's Rep.\", 'Kosovo', 'Kuwait', 'Kyrgyz Republic', 'Lebanon', 'Liberia', 'Libya', 'Liechtenstein', 'Macao SAR, China', 'Malawi', 'Malaysia', 'Maldives', 'Malta', 'Marshall Islands', 'Mauritius', 'Micronesia, Fed. Sts.', 'Moldova', 'Monaco', 'Montenegro', 'Morocco', 'Nauru', 'New Caledonia', 'North Macedonia', 'Northern Mariana Islands', 'Oman', 'Palau', 'Papua New Guinea', 'Puerto Rico (US)', 'Qatar', 'Samoa', 'San Marino', 'Sao Tome and Principe', 'Saudi Arabia', 'Serbia', 'Seychelles', 'Sierra Leone', 'Sint Maarten (Dutch part)', 'Solomon Islands', 'South Sudan', 'St. Kitts and Nevis', 'St. Lucia', 'St. Vincent and the Grenadines', 'Sudan', 'Suriname', 'Syrian Arab Republic', 'Tajikistan', 'Tanzania', 'Timor-Leste', 'Tonga', 'Tunisia', 'Turkmenistan', 'Turks and Caicos Islands', 'Tuvalu', 'Ukraine', 'United Arab Emirates', 'Uzbekistan', 'Vanuatu', 'Venezuela, RB', 'Virgin Islands (U.S.)', 'West Bank and Gaza', 'Yemen, Rep.']\n",
            "\n",
            "Countries without NaN values in their features:\n",
            "['Algeria', 'Argentina', 'Australia', 'Austria', 'Bangladesh', 'Belarus', 'Belgium', 'Belize', 'Benin', 'Bolivia', 'Botswana', 'Brazil', 'Bulgaria', 'Burkina Faso', 'Burundi', 'Cambodia', 'Cameroon', 'Canada', 'Chad', 'Chile', 'Colombia', 'Comoros', 'Congo, Dem. Rep.', 'Costa Rica', \"Cote d'Ivoire\", 'Croatia', 'Czechia', 'Denmark', 'Djibouti', 'Ecuador', 'Egypt, Arab Rep.', 'El Salvador', 'Estonia', 'Eswatini', 'Ethiopia', 'Finland', 'France', 'Gambia, The', 'Germany', 'Ghana', 'Greece', 'Guatemala', 'Guinea', 'Honduras', 'Hungary', 'Iceland', 'India', 'Indonesia', 'Iran, Islamic Rep.', 'Israel', 'Italy', 'Jamaica', 'Japan', 'Kenya', 'Korea, Rep.', 'Lao PDR', 'Latvia', 'Lesotho', 'Lithuania', 'Luxembourg', 'Madagascar', 'Mali', 'Mauritania', 'Mexico', 'Mongolia', 'Mozambique', 'Myanmar', 'Namibia', 'Nepal', 'Netherlands', 'New Zealand', 'Nicaragua', 'Niger', 'Nigeria', 'Norway', 'Pakistan', 'Panama', 'Paraguay', 'Peru', 'Philippines', 'Poland', 'Portugal', 'Romania', 'Russian Federation', 'Rwanda', 'Senegal', 'Singapore', 'Slovak Republic', 'Slovenia', 'Somalia', 'South Africa', 'Spain', 'Sri Lanka', 'Sweden', 'Switzerland', 'Thailand', 'Togo', 'Trinidad and Tobago', 'Turkiye', 'Uganda', 'United Kingdom', 'United States', 'Uruguay', 'Viet Nam', 'Zambia', 'Zimbabwe']\n",
            "\n",
            "Countries with exactly one NaN value in their features:\n",
            "['Afghanistan', 'Albania', 'Angola', 'Armenia', 'Azerbaijan', 'Bahrain', 'Barbados', 'Bhutan', 'Bosnia and Herzegovina', 'China', 'Cyprus', 'Gabon', 'Georgia', 'Guinea-Bissau', 'Guyana', 'Haiti', 'Iraq', 'Ireland', 'Jordan', 'Kazakhstan', 'Kuwait', 'Kyrgyz Republic', 'Lebanon', 'Liberia', 'Malawi', 'Malaysia', 'Malta', 'Mauritius', 'Moldova', 'Morocco', 'North Macedonia', 'Papua New Guinea', 'Qatar', 'Sao Tome and Principe', 'Saudi Arabia', 'Solomon Islands', 'St. Lucia', 'Sudan', 'Suriname', 'Tajikistan', 'Tanzania', 'Tunisia', 'United Arab Emirates', 'Uzbekistan', 'Yemen, Rep.']\n",
            "\n",
            "Number of countries with NaN values: 110\n",
            "Number of countries without NaN values: 106\n",
            "Number of countries with exactly one NaN value: 45\n",
            "\n",
            "Missing feature for countries with exactly one NaN:\n",
            "  Missing feature is 'abortions':\n",
            "    Countries: Afghanistan, Bahrain, Cyprus, Iraq, Ireland, Jordan, Kuwait, Lebanon, Malaysia, Malta, Mauritius, Morocco, Qatar, Saudi Arabia, Sudan, Tunisia, United Arab Emirates, Yemen, Rep.\n",
            "  Missing feature is 'maternity leave index':\n",
            "    Countries: Albania, Angola, Armenia, Azerbaijan, Bhutan, Bosnia and Herzegovina, Georgia, Kazakhstan, Kyrgyz Republic, Liberia, Malawi, Moldova, North Macedonia, Suriname, Tajikistan, Tanzania, Uzbekistan\n",
            "  Missing feature is 'happiness':\n",
            "    Countries: Barbados, Guinea-Bissau, Guyana, Papua New Guinea, Sao Tome and Principe, Solomon Islands, St. Lucia\n",
            "  Missing feature is 'female labor participation':\n",
            "    Countries: China, Gabon, Haiti\n"
          ]
        }
      ]
    },
    {
      "cell_type": "markdown",
      "source": [
        "process 2023 data:\n",
        "add some missing data, split to train and test and normalize"
      ],
      "metadata": {
        "id": "AHHje3EPAzwf"
      }
    },
    {
      "cell_type": "code",
      "source": [
        "df_features = calc_features_year(data_output,2023)\n",
        "\n",
        "# Fill in missing abortion rates\n",
        "df_features.loc['Cyprus', 'abortions'] = 7\n",
        "df_features.loc['Ireland', 'abortions'] = 6.7\n",
        "df_features.loc['Malaysia', 'abortions'] = 11\n",
        "df_features.loc['Mauritania', 'abortions'] = 42\n",
        "df_features.loc['Malta', 'abortions'] = 3\n",
        "df_features.loc['Morocco', 'abortions'] = 25\n",
        "\n",
        "# Fill in missing female labor participation rates\n",
        "df_features.loc['China', 'female labor participation'] = 59.6\n",
        "df_features.loc['Gabon', 'female labor participation'] = 41.7\n",
        "df_features.loc['Haiti', 'female labor participation'] = 60\n",
        "\n",
        "# Fill in missing maternity leave index values\n",
        "df_features.loc['Albania', 'maternity leave index'] = 23.23\n",
        "df_features.loc['Bosnia and Herzegovina', 'maternity leave index'] = 52.14\n",
        "df_features.loc['Kazakhstan', 'maternity leave index'] = 18\n",
        "df_features.loc['Georgia', 'maternity leave index'] = 7.59\n",
        "df_features.loc['Kyrgyz Republic', 'maternity leave index'] = 18\n",
        "df_features.loc['Moldova', 'maternity leave index'] = 18\n",
        "df_features.loc['Angola', 'maternity leave index'] = 13\n",
        "df_features.loc['Armenia', 'maternity leave index'] = 20\n",
        "df_features.loc['Azerbaijan', 'maternity leave index'] = 18\n",
        "df_features.loc['Malawi', 'maternity leave index'] = 12.86\n",
        "df_features.loc['Bhutan', 'maternity leave index'] = 8\n",
        "df_features.loc['Tanzania', 'maternity leave index'] = 12\n",
        "df_features.loc['Tajikistan', 'maternity leave index'] = 20\n",
        "df_features.loc['North Macedonia', 'maternity leave index'] = 39\n",
        "df_features.loc['Liberia', 'maternity leave index'] = 12.86\n",
        "df_features.loc['Suriname', 'maternity leave index'] = 0\n",
        "df_features.loc['Uzbekistan', 'maternity leave index'] = 18"
      ],
      "metadata": {
        "id": "o11f5CwCA_bK"
      },
      "execution_count": null,
      "outputs": []
    }
  ],
  "metadata": {
    "colab": {
      "name": "Welcome to Colab",
      "provenance": [],
      "include_colab_link": true
    },
    "kernelspec": {
      "display_name": "Python 3",
      "name": "python3"
    }
  },
  "nbformat": 4,
  "nbformat_minor": 0
}